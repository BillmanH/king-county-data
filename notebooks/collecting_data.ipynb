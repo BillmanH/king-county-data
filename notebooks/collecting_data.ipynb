{
 "cells": [
  {
   "cell_type": "markdown",
   "metadata": {},
   "source": [
    "# Collecting the parcel data from King County\n",
    "_Note, this is made for condominiums (many units in one parcel), but could easily be modified for other use cases._\n",
    "\n",
    "[parcelviewer2](https://gismaps.kingcounty.gov/parcelviewer2/) is here. You choose the parcel that you want on this map. \n",
    "\n",
    "Then you enter your parcel into the field to get the parcel that you want.\n",
    "The data for your parcel is here: \n",
    "```\n",
    "https://blue.kingcounty.com/Assessor/eRealProperty/Dashboard.aspx?ParcelNbr={yourparcel#}\n",
    "```\n",
    "\n",
    "That contains a table of all of the units in that parcel. Copy the parcel numbers in the table under `Units in this condominium complex` into a text file: `data/parcel_numbers.txt`. \n",
    "\n",
    "**Note**, I had to clean that using VSC's search and replace. I used the pattern `[^0-9]`.\n",
    "\n",
    "\n",
    "\n"
   ]
  },
  {
   "cell_type": "code",
   "execution_count": 1,
   "metadata": {},
   "outputs": [],
   "source": [
    "import os,yaml\n",
    "import requests, urllib\n",
    "from bs4 import BeautifulSoup as bs\n",
    "import pandas as pd\n",
    "\n"
   ]
  },
  {
   "cell_type": "code",
   "execution_count": 2,
   "metadata": {},
   "outputs": [
    {
     "name": "stdout",
     "output_type": "stream",
     "text": [
      "found: 84 parcels in file\n"
     ]
    }
   ],
   "source": [
    "params = yaml.safe_load(open('config.yaml'))\n",
    "\n",
    "with open(os.path.join('..','data',params['parcel_numbers'])) as f:\n",
    "    lines = f.read().splitlines()\n",
    "\n",
    "print(f'found: {len(lines)} parcels in file')"
   ]
  },
  {
   "cell_type": "code",
   "execution_count": 3,
   "metadata": {},
   "outputs": [],
   "source": [
    "URL_ParcelNumberQuery = r\"https://blue.kingcounty.com/Assessor/eRealProperty/Dashboard.aspx?ParcelNbr={}\""
   ]
  },
  {
   "cell_type": "markdown",
   "metadata": {},
   "source": [
    "The process below is most likely to change with updates to the website. See the comment `likely need to update`.  I could automate this better but it's not something that I need to do except _at most_ once a year. However you can just update by cicling through the index of `tables` to find the table that you want.\n",
    "\n",
    "`pd.read_html(str(tables), header=0)[X]` will give you a glimpse of your table where `X` is the number of the table you want to see. "
   ]
  },
  {
   "cell_type": "code",
   "execution_count": 9,
   "metadata": {},
   "outputs": [
    {
     "name": "stdout",
     "output_type": "stream",
     "text": [
      "0 5 10 15 "
     ]
    }
   ],
   "source": [
    "from re import template\n",
    "\n",
    "\n",
    "condo_tables = []\n",
    "value_tables = []\n",
    "counter = 0\n",
    "\n",
    "for parcel in lines[:20]:\n",
    "    if counter % 5 == 0:\n",
    "        print(counter,end=' ')\n",
    "    page = urllib.request.urlopen(URL_ParcelNumberQuery.format(parcel))\n",
    "    myhtml = page.read().decode('utf-8')\n",
    "    soup = bs(myhtml)\n",
    "    tables = soup.find_all('table')\n",
    "    # likely need to update based on where the table is on the webpage\n",
    "    # in 10/2022 the tables I wanted are on 6, and 8 below.\n",
    "    tempTable = pd.read_html(str(tables), header=0)[6]\n",
    "    lotKey = pd.DataFrame(pd.read_html(str(tables), header=0)[12]).set_index('Parcel Number').to_dict()\n",
    "    par_cel=list(lotKey.keys())[0]\n",
    "    lotdict=lotKey[parcel]\n",
    "    lotdict['Name']\n",
    "    lotdict['Site Address']\n",
    "    lotdict['Legal']\n",
    "    condo_tables.append(tempTable)\n",
    "    counter += 1\n"
   ]
  },
  {
   "cell_type": "code",
   "execution_count": 10,
   "metadata": {},
   "outputs": [
    {
     "data": {
      "text/html": [
       "<div>\n",
       "<style scoped>\n",
       "    .dataframe tbody tr th:only-of-type {\n",
       "        vertical-align: middle;\n",
       "    }\n",
       "\n",
       "    .dataframe tbody tr th {\n",
       "        vertical-align: top;\n",
       "    }\n",
       "\n",
       "    .dataframe thead th {\n",
       "        text-align: right;\n",
       "    }\n",
       "</style>\n",
       "<table border=\"1\" class=\"dataframe\">\n",
       "  <thead>\n",
       "    <tr style=\"text-align: right;\">\n",
       "      <th></th>\n",
       "      <th>Valued Year</th>\n",
       "      <th>Tax Year</th>\n",
       "      <th>Appraised Land Value ($)</th>\n",
       "      <th>Appraised Imps Value ($)</th>\n",
       "      <th>Appraised Total ($)</th>\n",
       "      <th>Appraised Imps Increase ($)</th>\n",
       "      <th>Taxable Land Value ($)</th>\n",
       "      <th>Taxable Imps Value ($)</th>\n",
       "      <th>Taxable Total ($)</th>\n",
       "    </tr>\n",
       "  </thead>\n",
       "  <tbody>\n",
       "    <tr>\n",
       "      <th>0</th>\n",
       "      <td>2022</td>\n",
       "      <td>2023</td>\n",
       "      <td>145300</td>\n",
       "      <td>226700</td>\n",
       "      <td>372000</td>\n",
       "      <td>0</td>\n",
       "      <td>145300</td>\n",
       "      <td>226700</td>\n",
       "      <td>372000</td>\n",
       "    </tr>\n",
       "    <tr>\n",
       "      <th>1</th>\n",
       "      <td>2021</td>\n",
       "      <td>2022</td>\n",
       "      <td>145300</td>\n",
       "      <td>217700</td>\n",
       "      <td>363000</td>\n",
       "      <td>0</td>\n",
       "      <td>145300</td>\n",
       "      <td>217700</td>\n",
       "      <td>363000</td>\n",
       "    </tr>\n",
       "    <tr>\n",
       "      <th>2</th>\n",
       "      <td>2020</td>\n",
       "      <td>2021</td>\n",
       "      <td>145300</td>\n",
       "      <td>165700</td>\n",
       "      <td>311000</td>\n",
       "      <td>0</td>\n",
       "      <td>145300</td>\n",
       "      <td>165700</td>\n",
       "      <td>311000</td>\n",
       "    </tr>\n",
       "    <tr>\n",
       "      <th>3</th>\n",
       "      <td>2019</td>\n",
       "      <td>2020</td>\n",
       "      <td>133200</td>\n",
       "      <td>147800</td>\n",
       "      <td>281000</td>\n",
       "      <td>0</td>\n",
       "      <td>133200</td>\n",
       "      <td>147800</td>\n",
       "      <td>281000</td>\n",
       "    </tr>\n",
       "    <tr>\n",
       "      <th>4</th>\n",
       "      <td>2018</td>\n",
       "      <td>2019</td>\n",
       "      <td>133200</td>\n",
       "      <td>149800</td>\n",
       "      <td>283000</td>\n",
       "      <td>0</td>\n",
       "      <td>133200</td>\n",
       "      <td>149800</td>\n",
       "      <td>283000</td>\n",
       "    </tr>\n",
       "    <tr>\n",
       "      <th>...</th>\n",
       "      <td>...</td>\n",
       "      <td>...</td>\n",
       "      <td>...</td>\n",
       "      <td>...</td>\n",
       "      <td>...</td>\n",
       "      <td>...</td>\n",
       "      <td>...</td>\n",
       "      <td>...</td>\n",
       "      <td>...</td>\n",
       "    </tr>\n",
       "    <tr>\n",
       "      <th>29</th>\n",
       "      <td>1990</td>\n",
       "      <td>1991</td>\n",
       "      <td>0</td>\n",
       "      <td>0</td>\n",
       "      <td>0</td>\n",
       "      <td>0</td>\n",
       "      <td>11800</td>\n",
       "      <td>38700</td>\n",
       "      <td>50500</td>\n",
       "    </tr>\n",
       "    <tr>\n",
       "      <th>30</th>\n",
       "      <td>1988</td>\n",
       "      <td>1989</td>\n",
       "      <td>0</td>\n",
       "      <td>0</td>\n",
       "      <td>0</td>\n",
       "      <td>0</td>\n",
       "      <td>10100</td>\n",
       "      <td>33100</td>\n",
       "      <td>43200</td>\n",
       "    </tr>\n",
       "    <tr>\n",
       "      <th>31</th>\n",
       "      <td>1986</td>\n",
       "      <td>1987</td>\n",
       "      <td>0</td>\n",
       "      <td>0</td>\n",
       "      <td>0</td>\n",
       "      <td>0</td>\n",
       "      <td>9400</td>\n",
       "      <td>44200</td>\n",
       "      <td>53600</td>\n",
       "    </tr>\n",
       "    <tr>\n",
       "      <th>32</th>\n",
       "      <td>1984</td>\n",
       "      <td>1985</td>\n",
       "      <td>0</td>\n",
       "      <td>0</td>\n",
       "      <td>0</td>\n",
       "      <td>0</td>\n",
       "      <td>9400</td>\n",
       "      <td>44200</td>\n",
       "      <td>53600</td>\n",
       "    </tr>\n",
       "    <tr>\n",
       "      <th>33</th>\n",
       "      <td>1982</td>\n",
       "      <td>1983</td>\n",
       "      <td>0</td>\n",
       "      <td>0</td>\n",
       "      <td>0</td>\n",
       "      <td>0</td>\n",
       "      <td>4200</td>\n",
       "      <td>50700</td>\n",
       "      <td>54900</td>\n",
       "    </tr>\n",
       "  </tbody>\n",
       "</table>\n",
       "<p>681 rows × 9 columns</p>\n",
       "</div>"
      ],
      "text/plain": [
       "    Valued Year  Tax Year  Appraised Land Value ($)  Appraised Imps Value ($)  \\\n",
       "0          2022      2023                    145300                    226700   \n",
       "1          2021      2022                    145300                    217700   \n",
       "2          2020      2021                    145300                    165700   \n",
       "3          2019      2020                    133200                    147800   \n",
       "4          2018      2019                    133200                    149800   \n",
       "..          ...       ...                       ...                       ...   \n",
       "29         1990      1991                         0                         0   \n",
       "30         1988      1989                         0                         0   \n",
       "31         1986      1987                         0                         0   \n",
       "32         1984      1985                         0                         0   \n",
       "33         1982      1983                         0                         0   \n",
       "\n",
       "    Appraised Total ($)  Appraised Imps Increase ($)  Taxable Land Value ($)  \\\n",
       "0                372000                            0                  145300   \n",
       "1                363000                            0                  145300   \n",
       "2                311000                            0                  145300   \n",
       "3                281000                            0                  133200   \n",
       "4                283000                            0                  133200   \n",
       "..                  ...                          ...                     ...   \n",
       "29                    0                            0                   11800   \n",
       "30                    0                            0                   10100   \n",
       "31                    0                            0                    9400   \n",
       "32                    0                            0                    9400   \n",
       "33                    0                            0                    4200   \n",
       "\n",
       "    Taxable Imps Value ($)  Taxable Total ($)  \n",
       "0                   226700             372000  \n",
       "1                   217700             363000  \n",
       "2                   165700             311000  \n",
       "3                   147800             281000  \n",
       "4                   149800             283000  \n",
       "..                     ...                ...  \n",
       "29                   38700              50500  \n",
       "30                   33100              43200  \n",
       "31                   44200              53600  \n",
       "32                   44200              53600  \n",
       "33                   50700              54900  \n",
       "\n",
       "[681 rows x 9 columns]"
      ]
     },
     "execution_count": 10,
     "metadata": {},
     "output_type": "execute_result"
    }
   ],
   "source": [
    "pd.concat(value_tables)"
   ]
  },
  {
   "cell_type": "code",
   "execution_count": 48,
   "metadata": {},
   "outputs": [
    {
     "data": {
      "text/plain": [
       "{'Name': 'CLARK VICTORIA A',\n",
       " 'Site Address': '3711 26TH PL W 304 98199',\n",
       " 'Legal': 'WINDY HILLS CONDOMINIUM APT 304 & P-31 PCT OF VAL 1.24'}"
      ]
     },
     "execution_count": 48,
     "metadata": {},
     "output_type": "execute_result"
    }
   ],
   "source": [
    "lotKey = pd.DataFrame(pd.read_html(str(tables), header=0)[12]).set_index('Parcel Number').to_dict()\n",
    "par_cel=list(lotKey.keys())[0]\n",
    "lotdict=lotKey[parcel]\n",
    "lotdict['Name']\n",
    "lotdict['Site Address']\n",
    "lotdict['Legal']\n"
   ]
  },
  {
   "cell_type": "code",
   "execution_count": 24,
   "metadata": {},
   "outputs": [
    {
     "data": {
      "text/plain": [
       "'9478110200'"
      ]
     },
     "execution_count": 24,
     "metadata": {},
     "output_type": "execute_result"
    }
   ],
   "source": [
    "parcel"
   ]
  },
  {
   "cell_type": "markdown",
   "metadata": {},
   "source": []
  }
 ],
 "metadata": {
  "kernelspec": {
   "display_name": "Python 3.9.7 ('base')",
   "language": "python",
   "name": "python3"
  },
  "language_info": {
   "codemirror_mode": {
    "name": "ipython",
    "version": 3
   },
   "file_extension": ".py",
   "mimetype": "text/x-python",
   "name": "python",
   "nbconvert_exporter": "python",
   "pygments_lexer": "ipython3",
   "version": "3.9.7"
  },
  "orig_nbformat": 4,
  "vscode": {
   "interpreter": {
    "hash": "22c9b235492eb27064b1d6494ac43e1333b60f3f1386f57c89f719bb81fb5c1d"
   }
  }
 },
 "nbformat": 4,
 "nbformat_minor": 2
}
